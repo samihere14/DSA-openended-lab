{
  "nbformat": 4,
  "nbformat_minor": 0,
  "metadata": {
    "colab": {
      "provenance": []
    },
    "kernelspec": {
      "name": "python3",
      "display_name": "Python 3"
    },
    "language_info": {
      "name": "python"
    }
  },
  "cells": [
    {
      "cell_type": "code",
      "execution_count": 2,
      "metadata": {
        "colab": {
          "base_uri": "https://localhost:8080/"
        },
        "id": "BKbRZq2g4MT_",
        "outputId": "85b38b92-1fa1-4cc6-b7a8-77a6c742eaf3"
      },
      "outputs": [
        {
          "output_type": "stream",
          "name": "stdout",
          "text": [
            "Enter the elements of the linked list 11 33 12 433 1 2 55 6\n",
            "\n",
            "Original Linked List:\n",
            "11 -> 33 -> 12 -> 433 -> 1 -> 2 -> 55 -> 6 -> None\n",
            "\n",
            "Enter the number of nodes to skip (M): 2\n",
            "Enter the number of nodes to delete (N): 1\n",
            "\n",
            "Modified Linked List:\n",
            "11 -> 33 -> 433 -> 1 -> 55 -> 6 -> None\n"
          ]
        }
      ],
      "source": [
        "class Node:\n",
        "\n",
        "    def __init__(self, data):\n",
        "        self.data = data\n",
        "        self.next = None\n",
        "\n",
        "# link list creating\n",
        "class LinkedList:\n",
        "\n",
        "    def __init__(self):\n",
        "        self.head = None\n",
        " ## appending into the list\n",
        "    def append(self, data):\n",
        "\n",
        "        new_node = Node(data)\n",
        "        if not self.head:\n",
        "            self.head = new_node\n",
        "        else:\n",
        "            current = self.head\n",
        "            while current.next:\n",
        "                current = current.next\n",
        "            current.next = new_node\n",
        "# displaying the list\n",
        "    def print_list(self):\n",
        "\n",
        "        current = self.head\n",
        "        if not current:\n",
        "            print(\"list is empty.\")\n",
        "            return\n",
        "        while current:\n",
        "            print(current.data, end=\" -> \")\n",
        "            current = current.next\n",
        "        print(\"None\")\n",
        "\n",
        "    def delete_n_after_m(self, m, n):\n",
        "\n",
        "        if m < 0 or n < 0:\n",
        "            print(\"please not enter-ve  number .\")\n",
        "            return\n",
        "        current = self.head\n",
        "        while current:\n",
        "            # skip m nodes\n",
        "            for _ in range(m - 1):\n",
        "                if not current:\n",
        "                    return\n",
        "                current = current.next\n",
        "\n",
        "            if not current:\n",
        "                return\n",
        "\n",
        "            # delete n nodes\n",
        "            temp = current.next\n",
        "            for _ in range(n):\n",
        "                if not temp:\n",
        "                    break\n",
        "                temp = temp.next\n",
        "\n",
        "            current.next = temp\n",
        "            current = temp\n",
        "\n",
        "\n",
        "# Main Function\n",
        "def main():\n",
        "\n",
        "    linked_list = LinkedList()\n",
        "\n",
        "\n",
        "    elements = input(\"Enter the elements of the linked list \").split()\n",
        "    for element in elements:\n",
        "        linked_list.append(int(element))\n",
        "\n",
        "    print(\"\\nOriginal Linked List:\")\n",
        "    linked_list.print_list()\n",
        "\n",
        "\n",
        "    m = int(input(\"\\nEnter the number of nodes to skip (M): \"))\n",
        "    n = int(input(\"Enter the number of nodes to delete (N): \"))\n",
        "\n",
        "\n",
        "    linked_list.delete_n_after_m(m, n)\n",
        "\n",
        "    print(\"\\nModified Linked List:\")\n",
        "    linked_list.print_list()\n",
        "\n",
        "\n",
        "if __name__ == \"__main__\":\n",
        "    main()"
      ]
    },
    {
      "cell_type": "code",
      "source": [],
      "metadata": {
        "id": "iNvpq2RA4_Wa"
      },
      "execution_count": 2,
      "outputs": []
    }
  ]
}
